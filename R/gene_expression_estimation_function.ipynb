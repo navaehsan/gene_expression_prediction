{
 "cells": [
  {
   "cell_type": "code",
   "execution_count": 1,
   "metadata": {},
   "outputs": [],
   "source": [
    "# h1: genotype for the first haplotype\n",
    "# h2: genotype for the second haplotype\n",
    "# s: vector of effect size of variants\n",
    "\n",
    "# returns a vector\n",
    "#result[1] : log expression for haplotype 1 in log2 scale\n",
    "#result[2] : gene expression for haplotype 2 in log2 scale\n",
    "#result[3] : total expression in log2 scale\n",
    "gene_expression_estimation<-function(h1,h2,s){\n",
    "  log_expression_h1<-t(h1)%*%s\n",
    "  log_expression_h2<-t(h2)%*%s\n",
    "  log_total_expression<-log2(2^(log_expression_h1)+2^(log_expression_h2))\n",
    "  \n",
    "  result<-c(log_expression_h1,log_expression_h2,log_total_expression)\n",
    "  return(result)\n",
    "  \n",
    "}\n",
    "\n",
    "# returns the AFC vector for a specified gene  \n",
    "AFC_gene_vector<-function(gene_id){\n",
    "    AFC_vector = AFC_dt[AFC_dt$gene_id ==gene_id,'log2_aFC']\n",
    "    return(AFC_vector)    \n",
    "}\n",
    "\n",
    "# returns the variant vector for a specified gene  \n",
    "variant_gene_vector<-function(gene_id){\n",
    "    variant_vector = AFC_dt[AFC_dt$gene_id ==gene_id,'variant_id']\n",
    "    return(variant_vector)    \n",
    "}"
   ]
  },
  {
   "cell_type": "code",
   "execution_count": null,
   "metadata": {},
   "outputs": [],
   "source": []
  }
 ],
 "metadata": {
  "kernelspec": {
   "display_name": "R",
   "language": "R",
   "name": "ir"
  },
  "language_info": {
   "codemirror_mode": "r",
   "file_extension": ".r",
   "mimetype": "text/x-r-source",
   "name": "R",
   "pygments_lexer": "r",
   "version": "3.6.1"
  },
  "toc": {
   "base_numbering": 1,
   "nav_menu": {},
   "number_sections": false,
   "sideBar": false,
   "skip_h1_title": false,
   "title_cell": "Table of Contents",
   "title_sidebar": "Contents",
   "toc_cell": false,
   "toc_position": {},
   "toc_section_display": false,
   "toc_window_display": false
  }
 },
 "nbformat": 4,
 "nbformat_minor": 2
}
