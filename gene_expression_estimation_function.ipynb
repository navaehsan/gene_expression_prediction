{
 "cells": [
  {
   "cell_type": "code",
   "execution_count": 2,
   "metadata": {},
   "outputs": [
    {
     "name": "stdout",
     "output_type": "stream",
     "text": [
      "[1]  0.0000000 -0.2747999  0.8691330\n"
     ]
    }
   ],
   "source": [
    "# h1: genotype for the first haplotype\n",
    "# h2: genotype for the second haplotype\n",
    "# s: vector of effect size of variants\n",
    "\n",
    "# returns a vector\n",
    "#result[1] : log expression for haplotype 1 in log2 scale\n",
    "#result[2] : gene expression for haplotype 2 in log2 scale\n",
    "#result[3] : total expression in log2 scale\n",
    "gene_expression_estimation<-function(h1,h2,s){\n",
    "  log_expression_h1<-t(h1)%*%s\n",
    "  log_expression_h2<-t(h2)%*%s\n",
    "  log_total_expression<-log2(2^(log_expression_h1)+2^(log_expression_h2))\n",
    "  \n",
    "  result<-c(log_expression_h1,log_expression_h2,log_total_expression)\n",
    "  return(result)\n",
    "  \n",
    "}\n",
    "\n",
    "# returns the AFC vector for a specified gene  \n",
    "AFC_gene_vector<-function(gene_id){\n",
    "    AFC_vector = AFC_dt[AFC_dt$gene_id ==gene_id,'log2_aFC']\n",
    "    return(AFC_vector)    \n",
    "}\n",
    "\n",
    "\n",
    "\n",
    "args = \"~/data/afc/AFC_perTissue/Whole_Blood.v8.independent_eqtls/aFC_sort.txt\"\n",
    "# read the afc file from command line \n",
    "AFC_dt=read.table(args, header=TRUE, sep=\"\\t\")\n",
    "\n",
    "# get the afc vector for a specific gene \n",
    "AFC_vector<-AFC_gene_vector(\"ENSG00000001036\")\n",
    "\n",
    "\n",
    "#sample genotype format\n",
    "genotype_h1 = c(0,0,0)\n",
    "genotype_h2 = c(1,0,1)\n",
    "\n",
    "#get the expression output vector for two haplotypes\n",
    "#output[1] : log expression for haplotype 1 in log2 scale\n",
    "#output[2] : gene expression for haplotype 2 in log2 scale\n",
    "#output[3] : total expression in log2 scale\n",
    "result<-gene_expression_estimation(genotype_h1,genotype_h2,AFC_vector) \n",
    "\n",
    "print(result)\n"
   ]
  },
  {
   "cell_type": "code",
   "execution_count": null,
   "metadata": {},
   "outputs": [],
   "source": []
  }
 ],
 "metadata": {
  "kernelspec": {
   "display_name": "R",
   "language": "R",
   "name": "ir"
  },
  "language_info": {
   "codemirror_mode": "r",
   "file_extension": ".r",
   "mimetype": "text/x-r-source",
   "name": "R",
   "pygments_lexer": "r",
   "version": "3.6.1"
  },
  "toc": {
   "base_numbering": 1,
   "nav_menu": {},
   "number_sections": false,
   "sideBar": false,
   "skip_h1_title": false,
   "title_cell": "Table of Contents",
   "title_sidebar": "Contents",
   "toc_cell": false,
   "toc_position": {},
   "toc_section_display": false,
   "toc_window_display": false
  }
 },
 "nbformat": 4,
 "nbformat_minor": 2
}
